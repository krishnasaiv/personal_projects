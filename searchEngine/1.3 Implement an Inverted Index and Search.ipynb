{
  "nbformat": 4,
  "nbformat_minor": 0,
  "metadata": {
    "colab": {
      "provenance": [],
      "authorship_tag": "ABX9TyN4rBWiPS5RHPfT/pUvARrx",
      "include_colab_link": true
    },
    "kernelspec": {
      "name": "python3",
      "display_name": "Python 3"
    },
    "language_info": {
      "name": "python"
    }
  },
  "cells": [
    {
      "cell_type": "markdown",
      "metadata": {
        "id": "view-in-github",
        "colab_type": "text"
      },
      "source": [
        "<a href=\"https://colab.research.google.com/github/krishnasaiv/personal_projects/blob/main/searchEngine/1.3%20Implement%20an%20Inverted%20Index%20and%20Search.ipynb\" target=\"_parent\"><img src=\"https://colab.research.google.com/assets/colab-badge.svg\" alt=\"Open In Colab\"/></a>"
      ]
    },
    {
      "cell_type": "markdown",
      "source": [
        "## Load dependencies, or libraries required to complete the step.\n"
      ],
      "metadata": {
        "id": "sUZa8cmEIh1w"
      }
    },
    {
      "cell_type": "code",
      "execution_count": 26,
      "metadata": {
        "id": "nV79XzwCG7S0"
      },
      "outputs": [],
      "source": [
        "import json \n",
        "import spacy \n",
        "import math\n",
        "from itertools import chain\n",
        "from collections import Counter, OrderedDict\n",
        "\n",
        "nlp = spacy.load(\"en_core_web_sm\")"
      ]
    },
    {
      "cell_type": "markdown",
      "source": [
        "## Load the JSON file containing the datasets you created and saved during Milestone 2. \n",
        "\n",
        "The first one should include the documents with the title, url, summary, tokenized_text, and tf_idfs fields.\n"
      ],
      "metadata": {
        "id": "t5TzJN3FIjaZ"
      }
    },
    {
      "cell_type": "code",
      "source": [
        "with open(\"data_tfidf.json\", 'r') as fp:\n",
        "    file_contents = fp.read()\n",
        "data = json.loads(file_contents)"
      ],
      "metadata": {
        "id": "DmyCc0PgMUMt"
      },
      "execution_count": 27,
      "outputs": []
    },
    {
      "cell_type": "markdown",
      "source": [
        "## Load the JSON file with the corpus vocabulary from Milestone 2.\n"
      ],
      "metadata": {
        "id": "uNJrvcxQInNr"
      }
    },
    {
      "cell_type": "code",
      "source": [
        "with open(\"data_vocab.json\", 'r') as fp:\n",
        "    file_contents = fp.read()\n",
        "vocab = json.loads(file_contents)"
      ],
      "metadata": {
        "id": "RkrEZ_2iImzA"
      },
      "execution_count": 28,
      "outputs": []
    },
    {
      "cell_type": "markdown",
      "source": [
        "## Build an inverted index for your dataset.\n"
      ],
      "metadata": {
        "id": "T-UaKnAlIphP"
      }
    },
    {
      "cell_type": "code",
      "source": [
        "inv_index = {token: [] for token in vocab}\n",
        "\n",
        "for i, token in enumerate(inv_index.keys()):\n",
        "    for doc in data:\n",
        "        if doc['tf_idf'][i] > 0:\n",
        "            inv_index[token].append((doc['title'], doc['tf_idf'][i] ))\n"
      ],
      "metadata": {
        "id": "vSLn0PoIIr_K"
      },
      "execution_count": 29,
      "outputs": []
    },
    {
      "cell_type": "markdown",
      "source": [
        "## Copy the tokenizer function from Milestone 1.\n",
        " You will need it to preprocess the search queries in the next step.\n"
      ],
      "metadata": {
        "id": "t-JBdlPdIsX0"
      }
    },
    {
      "cell_type": "code",
      "source": [
        "def tokenizer(input_string):\n",
        "    input_string = input_string.lower()\n",
        "    doc = nlp(input_string.replace(\"\\n\", \"\"))\n",
        "    tokens = [token.lemma_ for token in doc if \n",
        "              not (\n",
        "                    token.is_stop or                    # Remove Stop Words\n",
        "                    token.is_punct or                   # Remove punctutaion\n",
        "                    token.pos_ in ('SYM', 'X') or       # Remove symbols & unclassified POS\n",
        "                    token.dep_ == \"\" or                 # Remove unclassified dependencies\n",
        "                    token.like_num or                   # Remove numeric or numeric like tokens\n",
        "                    token.text in '_\\n '                # Remove misc characters\n",
        "                   )\n",
        "              ]\n",
        "    return tokens"
      ],
      "metadata": {
        "id": "xz05ucK5Ivnp"
      },
      "execution_count": 30,
      "outputs": []
    },
    {
      "cell_type": "markdown",
      "source": [
        "## Write a search function for your inverted index.\n"
      ],
      "metadata": {
        "id": "5P_5ywiSIv8K"
      }
    },
    {
      "cell_type": "code",
      "source": [
        "from collections import defaultdict\n",
        "\n",
        "# d = defaultdict(lambda: 0)\n",
        "\n",
        "# for i, j in [('y', 2),('b', 3),('r', 1),('r', 5),('b', 9)]:\n",
        "#     d[i] += j\n",
        "# d"
      ],
      "metadata": {
        "id": "5SCx-8TWQZbZ"
      },
      "execution_count": 34,
      "outputs": []
    },
    {
      "cell_type": "code",
      "source": [
        "def search(query, inv_index = inv_index):\n",
        "    tokenized_query = tokenizer(query)\n",
        "\n",
        "    # all_relevant_docs = []\n",
        "    relevant_docs = defaultdict(lambda: 0)\n",
        "\n",
        "    for token in tokenized_query:\n",
        "        docs_with_token = inv_index[token]\n",
        "        for title, tfidf in docs_with_token:\n",
        "            relevant_docs[title] += tfidf\n",
        "\n",
        "    return sorted( \n",
        "                [(title, score) for title, score in relevant_docs.items()]\n",
        "                  , key= lambda x: x[1]\n",
        "                  , reverse = True \n",
        "                )"
      ],
      "metadata": {
        "id": "zhqpCUKBNOcf"
      },
      "execution_count": 35,
      "outputs": []
    },
    {
      "cell_type": "code",
      "source": [
        "inv_index['spanish'], inv_index['flu']"
      ],
      "metadata": {
        "colab": {
          "base_uri": "https://localhost:8080/"
        },
        "id": "KXIVlXVjPG_p",
        "outputId": "e6dad399-687e-467f-9ea6-f67e6eb70e97"
      },
      "execution_count": 39,
      "outputs": [
        {
          "output_type": "execute_result",
          "data": {
            "text/plain": [
              "([('Pandemic', 0.10317460317460315),\n",
              "  ('Spanish flu', 0.18840579710144925),\n",
              "  ('Swine influenza', 0.053169734151329244)],\n",
              " [('Pandemic', 0.07738095238095238),\n",
              "  ('Spanish flu', 0.21195652173913043),\n",
              "  ('Swine influenza', 0.3987730061349693),\n",
              "  ('Unified Victim Identification System', 0.046762589928057555)])"
            ]
          },
          "metadata": {},
          "execution_count": 39
        }
      ]
    },
    {
      "cell_type": "code",
      "source": [
        "search('spanish flu')"
      ],
      "metadata": {
        "colab": {
          "base_uri": "https://localhost:8080/"
        },
        "id": "rhiUsx7hTITb",
        "outputId": "00126e6d-25a9-4fa7-d7cf-926895df9db1"
      },
      "execution_count": 38,
      "outputs": [
        {
          "output_type": "execute_result",
          "data": {
            "text/plain": [
              "[('Swine influenza', 0.45194274028629855),\n",
              " ('Spanish flu', 0.4003623188405797),\n",
              " ('Pandemic', 0.18055555555555552),\n",
              " ('Unified Victim Identification System', 0.046762589928057555)]"
            ]
          },
          "metadata": {},
          "execution_count": 38
        }
      ]
    },
    {
      "cell_type": "code",
      "source": [
        "search(\"symptoms of swine flu\")"
      ],
      "metadata": {
        "colab": {
          "base_uri": "https://localhost:8080/"
        },
        "id": "Nh53XXYBTRpF",
        "outputId": "240af087-a41e-4ab3-fca5-7da737c5f71a"
      },
      "execution_count": 40,
      "outputs": [
        {
          "output_type": "execute_result",
          "data": {
            "text/plain": [
              "[('Swine influenza', 1.2361963190184049),\n",
              " ('Spanish flu', 0.2826086956521739),\n",
              " ('Cholera', 0.08552631578947367),\n",
              " ('HIV/AIDS', 0.0819327731092437),\n",
              " ('Pandemic', 0.07738095238095238),\n",
              " ('Unified Victim Identification System', 0.046762589928057555),\n",
              " ('COVID-19 pandemic', 0.041666666666666664)]"
            ]
          },
          "metadata": {},
          "execution_count": 40
        }
      ]
    },
    {
      "cell_type": "code",
      "source": [
        "search(\"pandemic prevention organizations\")"
      ],
      "metadata": {
        "colab": {
          "base_uri": "https://localhost:8080/"
        },
        "id": "Hll3PAyNTjLj",
        "outputId": "f2e06428-a616-455e-f547-fee5ff9f92f2"
      },
      "execution_count": 41,
      "outputs": [
        {
          "output_type": "execute_result",
          "data": {
            "text/plain": [
              "[('Pandemic prevention', 0.757422969187675),\n",
              " ('Pandemic Severity Assessment Framework', 0.1818960593946316),\n",
              " ('Event 201', 0.13541666666666666),\n",
              " ('Pandemic', 0.12745098039215685),\n",
              " ('Crimson Contagion', 0.1239106753812636),\n",
              " ('Pandemic severity index', 0.10368893320039879),\n",
              " ('HIV/AIDS', 0.08835887296094909),\n",
              " ('PREDICT (USAID)', 0.08049535603715169),\n",
              " ('Spanish flu', 0.0748081841432225),\n",
              " ('Science diplomacy and pandemics', 0.06304026987138941),\n",
              " ('HIV/AIDS in Yunnan', 0.06190476190476191),\n",
              " ('Plague of Cyprian', 0.058823529411764705),\n",
              " ('Disease X', 0.05485232067510548),\n",
              " ('Swine influenza', 0.054733549861662456),\n",
              " ('COVID-19 pandemic', 0.039215686274509796),\n",
              " ('Antonine Plague', 0.02507232401157184),\n",
              " ('1929–1930 psittacosis pandemic', 0.01552702299193789),\n",
              " ('Epidemiology of HIV/AIDS', 0.014293567894447497),\n",
              " ('Unified Victim Identification System', 0.011002962336013541),\n",
              " ('Cholera', 0.006707946336429307)]"
            ]
          },
          "metadata": {},
          "execution_count": 41
        }
      ]
    }
  ]
}