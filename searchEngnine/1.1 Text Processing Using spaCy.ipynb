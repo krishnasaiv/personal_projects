{
  "nbformat": 4,
  "nbformat_minor": 0,
  "metadata": {
    "colab": {
      "provenance": [],
      "collapsed_sections": [
        "KJy1sNKsyqpe"
      ],
      "authorship_tag": "ABX9TyM9HjRlepLgiA0FaKScFb6a",
      "include_colab_link": true
    },
    "kernelspec": {
      "name": "python3",
      "display_name": "Python 3"
    },
    "language_info": {
      "name": "python"
    }
  },
  "cells": [
    {
      "cell_type": "markdown",
      "metadata": {
        "id": "view-in-github",
        "colab_type": "text"
      },
      "source": [
        "<a href=\"https://colab.research.google.com/github/krishnasaiv/personal_projects/blob/main/searchEngnine/1.1%20Text%20Processing%20Using%20spaCy.ipynb\" target=\"_parent\"><img src=\"https://colab.research.google.com/assets/colab-badge.svg\" alt=\"Open In Colab\"/></a>"
      ]
    },
    {
      "cell_type": "markdown",
      "source": [
        "## Load all relevant Python libraries and a spaCy language model."
      ],
      "metadata": {
        "id": "j4lDLfUoEU3E"
      }
    },
    {
      "cell_type": "code",
      "execution_count": 23,
      "metadata": {
        "id": "IJsjdECj_sfl"
      },
      "outputs": [],
      "source": [
        "import json \n",
        "import spacy \n",
        "\n",
        "nlp = spacy.load(\"en_core_web_sm\")"
      ]
    },
    {
      "cell_type": "markdown",
      "source": [
        "## Open the provided JSON file. \n",
        "\n",
        "It contains a list of dictionaries with summaries from Wikipedia articles, where each dictionary has three key-value pairs. The keys title, text and url correspond to:\n",
        "\n",
        "\n",
        "1.   Title of the Wikipedia article the text is taken from.\n",
        "2.   Wikipedia article text. (In this dataset we included only the summary.)\n",
        "3.   Link to the Wikipedia article."
      ],
      "metadata": {
        "id": "5RlW6DyREXml"
      }
    },
    {
      "cell_type": "code",
      "source": [
        "with open('data.json') as user_file:\n",
        "  file_contents = user_file.read()\n",
        "\n",
        "data = json.loads(file_contents)"
      ],
      "metadata": {
        "id": "l1h-W433AD_v"
      },
      "execution_count": 24,
      "outputs": []
    },
    {
      "cell_type": "markdown",
      "source": [
        "## Create a Python function that takes in a text string, performs all operations described in the previous step, and outputs a list of tokens (lemmas).\n",
        "\n",
        "1. Lowercases the text string.\n",
        "2. Creates a spaCy document with the text lemmas and their attributes using a spaCy model of your choice.\n",
        "3. Removes stop words, punctuation, and other unclassified lemmas.\n",
        "4. Returns a list of tokens (lemmas) found in the text."
      ],
      "metadata": {
        "id": "kagEUzIBEz4u"
      }
    },
    {
      "cell_type": "code",
      "source": [
        "def extractLemmaTokens(s):\n",
        "    s = s.lower()\n",
        "    doc = nlp(s.replace(\"\\n\", \"\"))\n",
        "\n",
        "    tokens = [token.lemma_ for token in doc if \n",
        "              not (\n",
        "                    token.is_stop or\n",
        "                    token.pos_ in ('PUNCT','SYM', 'X') or\n",
        "                    token.dep_ == \"\" or\n",
        "                    token.like_num or\n",
        "                    token.text in '_\\n '\n",
        "                   )\n",
        "              ]\n",
        "\n",
        "    return tokens"
      ],
      "metadata": {
        "id": "Nc2AS6NvDcrq"
      },
      "execution_count": 28,
      "outputs": []
    },
    {
      "cell_type": "markdown",
      "source": [
        "## Use this function to preprocess all text documents in the dataset (text field only), and add the resulting lists to the dictionaries from step 1 . \n",
        "\n",
        "You should end up with a list of dictionaries, each of which now has four key-value pairs:\n",
        "\n",
        "* title: Title of the Wikipedia article the text is taken from.\n",
        "* text: Wikipedia article text. (In this dataset we included only the summary.)\n",
        "* tokenized_text: Tokenized Wikipedia article text.\n",
        "* url: Link to the Wikipedia article."
      ],
      "metadata": {
        "id": "XsEXlRXEE_Ol"
      }
    },
    {
      "cell_type": "code",
      "source": [
        "for article in data:\n",
        "    article['tokenized_text'] = extractLemmaTokens(article['text'])"
      ],
      "metadata": {
        "id": "d0iwjbJzyp60"
      },
      "execution_count": null,
      "outputs": []
    },
    {
      "cell_type": "markdown",
      "source": [
        "## Save the new list of dictionaries in JSON format."
      ],
      "metadata": {
        "id": "GS2UFn7NFRkA"
      }
    },
    {
      "cell_type": "code",
      "source": [
        "with open('data_with_token.json', 'w') as fp:\n",
        "    json.dump(data, fp)"
      ],
      "metadata": {
        "id": "bia81ETx0E6f"
      },
      "execution_count": 12,
      "outputs": []
    },
    {
      "cell_type": "markdown",
      "source": [
        "## Test"
      ],
      "metadata": {
        "id": "KJy1sNKsyqpe"
      }
    },
    {
      "cell_type": "code",
      "source": [
        "# txt = \"POS Tagging in Spacy library is quite easy as seen in the below example. We just instantiate a Spacy object as doc. We iterate over doc object and use pos_ , tag_, to print the POS tag. Spacy also lets you access the detailed explanation of POS tags by using spacy.explain() function which is also printed in the same iteration along with POS tags.\"\n",
        "# #data[0]['text'].lower()\n",
        "# doc = nlp(article['text'])\n",
        "\n",
        "# # for t in s:\n",
        "# #     print(t, t.lemma_)\n",
        "\n",
        "# rows = []\n",
        "# rows.append([\"Word\", \"Position\", \"Lowercase\", \"Lemma\", \"POS\", \"Alphanumeric\",\"Stopword\", \"Dependency\"])\n",
        "\n",
        "# for token in doc:\n",
        "#     if not (token.is_stop or token.pos_ in ('PUNCT','SYM', 'X') or token.text == '_\\n ' or token.dep_ == \"\"):\n",
        "#         rows.append([token.text, str(token.i), token.lower_, token.lemma_, token.pos_, str(token.is_alpha), str(token.is_stop), token.dep_])\n",
        "# columns = zip(*rows)\n",
        "# column_widths = [max(len(item) for item in col) for col in columns]\n",
        "\n",
        "\n",
        "# for row in rows:\n",
        "#     print(''.join(' {:{width}} '.format(row[i], width=column_widths[i])  for i in range(0, len(row))))"
      ],
      "metadata": {
        "id": "T_jFSYZNGgMr"
      },
      "execution_count": 31,
      "outputs": []
    },
    {
      "cell_type": "code",
      "source": [
        "# len(rows)"
      ],
      "metadata": {
        "id": "plqZ6GIXvdUG"
      },
      "execution_count": null,
      "outputs": []
    }
  ]
}